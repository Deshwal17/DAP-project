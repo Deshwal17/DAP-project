{
 "cells": [
  {
   "cell_type": "code",
   "execution_count": 1,
   "id": "0550f1ad",
   "metadata": {
    "pycharm": {
     "name": "#%%\n"
    },
    "scrolled": false
   },
   "outputs": [],
   "source": [
    "import requests\n",
    "import pprint\n",
    "import json\n",
    "import pandas as pd\n",
    "import os as os1\n",
    "import numpy as np\n",
    "import pymongo\n",
    "from pymongo import MongoClient\n",
    "\n",
    "\n",
    "def get_country_list():\n",
    "    country_metadata = pd.read_csv('Metadata_Country.csv')\n",
    "    country_df = pd.DataFrame(country_metadata, columns =['Country_Code','Region','IncomeGroup','SpecialNotes','TableName'] )\n",
    "    country_df['Country_Code'].str.strip()\n",
    "    country_df['TableName'].str.strip()    \n",
    "    return country_df\n",
    "\n",
    "# Get Current GDP\n",
    "def get_gdp_country(code):\n",
    "    api_str_1 = 'http://api.worldbank.org/v2/country/'\n",
    "    api_fetch = api_str_1 + code + '/indicator/NY.GDP.MKTP.CD?format=json'\n",
    "    r = requests.get(api_fetch)\n",
    "    gdp_country_js = r.json()\n",
    "    gdp_country_l = gdp_country_js[1]\n",
    "    return gdp_country_l\n",
    "\n",
    "# Get GDP Per Capita\n",
    "def get_gdp_pcp_country(code):\n",
    "    api_str_1 = 'http://api.worldbank.org/v2/country/'\n",
    "    api_fetch = api_str_1 + code + '/indicator/NY.GNP.PCAP.PP.CD?format=json'\n",
    "    r = requests.get(api_fetch)\n",
    "    gdp_country_js = r.json()\n",
    "    gdp_country_l = gdp_country_js[1]\n",
    "    return gdp_country_l\n",
    "\n",
    "\n",
    "# Create and insert into database : \"GDP_STG\":\n",
    "def insert_data_stg(name,gdp_cur_name, gdp_pci_name,GDP_CURRENT_LST,GNI_PPP_LST):\n",
    "    client = MongoClient(host=\"localhost\", port=27017)\n",
    "    db = name\n",
    "    mydb = client[db]\n",
    "    collection_GDPC = gdp_cur_name #'SRC_STG_GDP_CUR'\n",
    "    collection_GDPPCI = gdp_pci_name #'SRC_STG_GDP_PCI'\n",
    "    mycol_GDPC =  mydb[collection_GDPC]\n",
    "    mycol_GDPPCI= mydb[collection_GDPPCI]\n",
    "    for item in GDP_CURRENT_LST:    \n",
    "        x = mycol_GDPC.insert_many(item)\n",
    "    for item in GNI_PPP_LST:\n",
    "        x = mycol_GDPPCI.insert_many(item)\n",
    "        \n",
    "def main():\n",
    "    # initializing empty lists to store GDP (current us$) and Gross National Income( Purchasing power parity)\n",
    "    GDP_CURRENT_LST = []\n",
    "    GNI_PPP_LST     = []\n",
    "    \n",
    "#     defining the db name and staging table names\n",
    "    db_name = 'GDP_STG'\n",
    "    gdp_cur_name = 'SRC_STG_GDP_CUR'\n",
    "    gdp_pci_name = 'SRC_STG_GDP_PCI'\n",
    "    \n",
    "    \n",
    "    country_list = get_country_list()\n",
    "    for ind in country_list.index  :\n",
    "        code = country_list['Country_Code'][ind]\n",
    "        new_GDP = get_gdp_country(code)\n",
    "        new_GNI = get_gdp_pcp_country(code)\n",
    "        GDP_CURRENT_LST.append(new_GDP)\n",
    "        GNI_PPP_LST.append(new_GNI)\n",
    "    \n",
    "    insert_data_stg(db_name,gdp_cur_name,gdp_pci_name,GDP_CURRENT_LST,GNI_PPP_LST)\n",
    "    \n",
    "\n",
    "if __name__ == '__main__':\n",
    "    main()\n",
    "    \n",
    "  "
   ]
  },
  {
   "cell_type": "code",
   "execution_count": null,
   "id": "dfdc53a1",
   "metadata": {
    "pycharm": {
     "name": "#%%\n"
    }
   },
   "outputs": [],
   "source": []
  },
  {
   "cell_type": "code",
   "execution_count": null,
   "id": "339230b7",
   "metadata": {
    "pycharm": {
     "name": "#%%\n"
    }
   },
   "outputs": [],
   "source": []
  },
  {
   "cell_type": "code",
   "execution_count": null,
   "id": "29fe5a0d",
   "metadata": {},
   "outputs": [],
   "source": []
  }
 ],
 "metadata": {
  "kernelspec": {
   "display_name": "Python 3 (ipykernel)",
   "language": "python",
   "name": "python3"
  },
  "language_info": {
   "codemirror_mode": {
    "name": "ipython",
    "version": 3
   },
   "file_extension": ".py",
   "mimetype": "text/x-python",
   "name": "python",
   "nbconvert_exporter": "python",
   "pygments_lexer": "ipython3",
   "version": "3.9.7"
  }
 },
 "nbformat": 4,
 "nbformat_minor": 5
}
